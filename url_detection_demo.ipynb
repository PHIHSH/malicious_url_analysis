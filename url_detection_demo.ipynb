{
 "cells": [
  {
   "cell_type": "code",
   "execution_count": null,
   "metadata": {
    "slideshow": {
     "slide_type": "skip"
    }
   },
   "outputs": [],
   "source": [
    "import pandas as pd\n",
    "pd.set_option('display.max_colwidth', 75)\n",
    "pd.options.display.max_rows = 7"
   ]
  },
  {
   "cell_type": "markdown",
   "metadata": {
    "slideshow": {
     "slide_type": "slide"
    }
   },
   "source": [
    "# Jaro Similarity\n",
    "<img src=\"images/jaro.png\" width=\"80%\">\n",
    "\n",
    "https://en.wikipedia.org/wiki/Jaro–Winkler_distance"
   ]
  },
  {
   "cell_type": "markdown",
   "metadata": {
    "slideshow": {
     "slide_type": "slide"
    }
   },
   "source": [
    "# Levenshtein Distance\n",
    "<img src=\"images/levenshtein.png\" width=\"80%\">\n",
    "\n",
    "https://en.wikipedia.org/wiki/Levenshtein_distance"
   ]
  },
  {
   "cell_type": "markdown",
   "metadata": {
    "slideshow": {
     "slide_type": "slide"
    }
   },
   "source": [
    "## Let's Try It!"
   ]
  },
  {
   "cell_type": "code",
   "execution_count": null,
   "metadata": {
    "slideshow": {
     "slide_type": "fragment"
    }
   },
   "outputs": [],
   "source": [
    "from jellyfish import levenshtein_distance, jaro_distance"
   ]
  },
  {
   "cell_type": "code",
   "execution_count": null,
   "metadata": {
    "slideshow": {
     "slide_type": "fragment"
    }
   },
   "outputs": [],
   "source": [
    "# Levenshtein distance\n",
    "levenshtein_distance('google.com', 'g00gle.com')"
   ]
  },
  {
   "cell_type": "code",
   "execution_count": null,
   "metadata": {
    "slideshow": {
     "slide_type": "fragment"
    }
   },
   "outputs": [],
   "source": [
    "# Jaro distance\n",
    "jaro_distance('google.com', 'g00gle.com')"
   ]
  },
  {
   "attachments": {},
   "cell_type": "markdown",
   "metadata": {
    "slideshow": {
     "slide_type": "slide"
    }
   },
   "source": [
    "## More!"
   ]
  },
  {
   "cell_type": "code",
   "execution_count": null,
   "metadata": {
    "slideshow": {
     "slide_type": "fragment"
    }
   },
   "outputs": [],
   "source": [
    "words_df = pd.DataFrame([{'word1' : u'google.com', 'word2' : u'google.com'},\n",
    "                         {'word1' : u'google.com', 'word2' : u'g00gle.com'},\n",
    "                         {'word1' : u'google.com', 'word2' : u'google.badguy.com'},\n",
    "                         {'word1' : u'google.com', 'word2' : u'malware.ru'},\n",
    "                         {'word1' : u'bit', 'word2' : u'bot'},\n",
    "                         {'word1' : u'bitly.bit', 'word2' : u'bitly.bot'}])\n",
    "words_df['Levenshtein'] = words_df.apply(lambda row: levenshtein_distance(row['word1'], row['word2']), axis=1)\n",
    "words_df['Jaro'] = words_df.apply(lambda row: jaro_distance(row['word1'], row['word2']), axis=1)\n",
    "words_df"
   ]
  },
  {
   "cell_type": "markdown",
   "metadata": {
    "slideshow": {
     "slide_type": "slide"
    }
   },
   "source": [
    "## Finding Needles in a Haystack\n",
    "<img src=\"images/dataset.png\" width=\"50%\">"
   ]
  },
  {
   "cell_type": "code",
   "execution_count": null,
   "metadata": {
    "scrolled": true,
    "slideshow": {
     "slide_type": "fragment"
    }
   },
   "outputs": [],
   "source": [
    "# Load Dataset\n",
    "df = pd.read_csv('./data/dataset_medium.csv', dtype={'port': str, 'subdomains':str})\n",
    "df.fillna('', inplace=True)\n",
    "df = df[['label', 'url', 'uri', 'subdomains']]\n",
    "df"
   ]
  },
  {
   "cell_type": "markdown",
   "metadata": {
    "slideshow": {
     "slide_type": "slide"
    }
   },
   "source": [
    "### Let's look for malicious bank-related links\n",
    "<img src=\"images/bank.png\" alt=\"my img\" align=\"center\" width=\"10%\" />"
   ]
  },
  {
   "cell_type": "code",
   "execution_count": null,
   "metadata": {
    "slideshow": {
     "slide_type": "fragment"
    }
   },
   "outputs": [],
   "source": [
    "# Find common malicious\n",
    "df[(df.label == 'malicious') & \\\n",
    "   (df.subdomains.str.contains('bank'))][['uri', 'subdomains', 'url']]"
   ]
  },
  {
   "cell_type": "markdown",
   "metadata": {
    "slideshow": {
     "slide_type": "slide"
    }
   },
   "source": [
    "<img src=\"images/needles_to_haystack.png\" alt=\"my img\" align=\"left\" width=\"50%\" />"
   ]
  },
  {
   "cell_type": "code",
   "execution_count": null,
   "metadata": {
    "slideshow": {
     "slide_type": "fragment"
    }
   },
   "outputs": [],
   "source": [
    "malicious_uri = '/account/verification/D50M74890M8414B93618/qes.php'\n",
    "df['jaro'] = df.uri.apply(jaro_distance, args=(malicious_uri,))\n",
    "df[['label', 'url', 'jaro']].sort_values('jaro', ascending=False)[0:7]"
   ]
  },
  {
   "cell_type": "markdown",
   "metadata": {
    "slideshow": {
     "slide_type": "slide"
    }
   },
   "source": [
    "# TF-IDF: How important is this word relative to everything else?\n",
    "<img src=\"images/charlie.jpg\" alt=\"my img\" align=\"middle\" width=\"50%\" />"
   ]
  },
  {
   "cell_type": "code",
   "execution_count": null,
   "metadata": {
    "slideshow": {
     "slide_type": "fragment"
    }
   },
   "outputs": [],
   "source": [
    "# Load TF-IDF Library\n",
    "from sklearn.feature_extraction.text import TfidfVectorizer\n",
    "import numpy as np"
   ]
  },
  {
   "cell_type": "markdown",
   "metadata": {
    "slideshow": {
     "slide_type": "slide"
    }
   },
   "source": [
    "## Let's run TF-IDF on just the malicious dataset"
   ]
  },
  {
   "cell_type": "code",
   "execution_count": null,
   "metadata": {
    "slideshow": {
     "slide_type": "fragment"
    }
   },
   "outputs": [],
   "source": [
    "# Select malicious examples only\n",
    "df_malicious = df[df.label=='malicious'][['label', 'url']]\n",
    "df_malicious.head(5)"
   ]
  },
  {
   "cell_type": "markdown",
   "metadata": {
    "slideshow": {
     "slide_type": "slide"
    }
   },
   "source": [
    "## Let's run TF-IDF on just the malicious dataset"
   ]
  },
  {
   "cell_type": "code",
   "execution_count": null,
   "metadata": {
    "slideshow": {
     "slide_type": "fragment"
    }
   },
   "outputs": [],
   "source": [
    "# Instantiate Vectorizer\n",
    "vectorizer = TfidfVectorizer(max_df=.5, min_df=.001)\n",
    "# Fit\n",
    "features_transformed = vectorizer.fit_transform(df_malicious.url)\n",
    "vocab = vectorizer.vocabulary_"
   ]
  },
  {
   "cell_type": "code",
   "execution_count": null,
   "metadata": {
    "slideshow": {
     "slide_type": "fragment"
    }
   },
   "outputs": [],
   "source": [
    "vocab"
   ]
  },
  {
   "cell_type": "markdown",
   "metadata": {
    "slideshow": {
     "slide_type": "slide"
    }
   },
   "source": [
    "## Let's run TF-IDF on just the malicious dataset"
   ]
  },
  {
   "cell_type": "code",
   "execution_count": null,
   "metadata": {
    "slideshow": {
     "slide_type": "fragment"
    }
   },
   "outputs": [],
   "source": [
    "def top_tfidf(vectorizer, fit_transform_result, topn=20):\n",
    "    scores = zip(vectorizer.get_feature_names(), np.asarray(fit_transform_result.sum(axis=0)).ravel())\n",
    "    sorted_scores = sorted(scores, key=lambda x: x[1], reverse=True)\n",
    "    for item in sorted_scores[0:topn]:\n",
    "        print(\"{0:50} Score: {1:.3f}\".format(item[0], item[1]))\n",
    "\n",
    "top_tfidf(vectorizer, features_transformed, topn=20)"
   ]
  },
  {
   "cell_type": "markdown",
   "metadata": {
    "slideshow": {
     "slide_type": "slide"
    }
   },
   "source": [
    "## Redo TF-IDF for Everything"
   ]
  },
  {
   "cell_type": "code",
   "execution_count": null,
   "metadata": {
    "slideshow": {
     "slide_type": "fragment"
    }
   },
   "outputs": [],
   "source": [
    "features_transformed = vectorizer.fit_transform(df.url)\n",
    "print(features_transformed.shape)\n",
    "vocab = vectorizer.vocabulary_\n",
    "top_tfidf(vectorizer, features_transformed, topn=25)"
   ]
  },
  {
   "cell_type": "markdown",
   "metadata": {
    "slideshow": {
     "slide_type": "slide"
    }
   },
   "source": [
    "<img src=\"images/cosine.png\" alt=\"my img\" align=\"center\" width=\"35%\" />"
   ]
  },
  {
   "cell_type": "code",
   "execution_count": null,
   "metadata": {
    "slideshow": {
     "slide_type": "fragment"
    }
   },
   "outputs": [],
   "source": [
    "# Load cosine_similarity function\n",
    "from sklearn.metrics.pairwise import cosine_similarity\n",
    "\n",
    "# Helper function\n",
    "def print_top_n(result, df, top_n=5):\n",
    "    top_n = 5\n",
    "    sorted_result = result.argsort()[0][(-1*top_n):]\n",
    "    list(reversed(sorted_result.tolist()))\n",
    "    results = []\n",
    "    for idx in sorted_result:\n",
    "        results.append({'cos_dist' : result[0][idx], 'url' : df.iloc[idx]['url']})\n",
    "    return pd.DataFrame(results).sort_values('cos_dist', ascending=False).reset_index(drop=True)"
   ]
  },
  {
   "cell_type": "code",
   "execution_count": null,
   "metadata": {
    "slideshow": {
     "slide_type": "slide"
    }
   },
   "outputs": [],
   "source": [
    "df[((df.label == 'malicious') & \\\n",
    "    df.url.str.contains('paypal'))][['url', 'subdomains']].head(5)"
   ]
  },
  {
   "cell_type": "code",
   "execution_count": null,
   "metadata": {
    "slideshow": {
     "slide_type": "fragment"
    }
   },
   "outputs": [],
   "source": [
    "idx = 950311\n",
    "result = cosine_similarity(features_transformed[idx:(idx+1)], features_transformed)\n",
    "print_top_n(result, df)"
   ]
  },
  {
   "cell_type": "markdown",
   "metadata": {
    "slideshow": {
     "slide_type": "slide"
    }
   },
   "source": [
    "# Machine Learning with Naive Bayes\n"
   ]
  },
  {
   "cell_type": "markdown",
   "metadata": {
    "slideshow": {
     "slide_type": "fragment"
    }
   },
   "source": [
    "<img src=\"images/naive.jpg\" alt=\"my img\" align=\"middle\" width=\"20%\" />"
   ]
  },
  {
   "cell_type": "markdown",
   "metadata": {
    "slideshow": {
     "slide_type": "slide"
    }
   },
   "source": [
    "<img src=\"images/needlestack.png\" alt=\"my img\" align=\"middle\" width=\"80%\" />"
   ]
  },
  {
   "cell_type": "code",
   "execution_count": null,
   "metadata": {
    "slideshow": {
     "slide_type": "fragment"
    }
   },
   "outputs": [],
   "source": [
    "# Load dataset\n",
    "ml_dataset = df[900000:]\n",
    "ml_dataset.label.value_counts()"
   ]
  },
  {
   "cell_type": "code",
   "execution_count": null,
   "metadata": {
    "slideshow": {
     "slide_type": "fragment"
    }
   },
   "outputs": [],
   "source": [
    "from sklearn.naive_bayes import GaussianNB\n",
    "# TF-IDF\n",
    "vectorizer = TfidfVectorizer(max_df=.5, min_df=.001)\n",
    "X_data = vectorizer.fit_transform(ml_dataset.url)\n",
    "vocab = vectorizer.vocabulary_\n",
    "\n",
    "# Naive Bayes Classifier\n",
    "cls = GaussianNB()\n",
    "clf = cls.fit(X_data.toarray(), ml_dataset.label)"
   ]
  },
  {
   "cell_type": "code",
   "execution_count": null,
   "metadata": {
    "slideshow": {
     "slide_type": "slide"
    }
   },
   "outputs": [],
   "source": [
    "def predict(url, vocab, clf):\n",
    "    sample = pd.DataFrame([{'url' : url}])\n",
    "    vectorizer = TfidfVectorizer(vocabulary=vocab)\n",
    "    sample_tfidf = vectorizer.fit_transform(sample.url)\n",
    "    return clf.predict(sample_tfidf.toarray())[0]"
   ]
  },
  {
   "cell_type": "code",
   "execution_count": null,
   "metadata": {
    "slideshow": {
     "slide_type": "fragment"
    }
   },
   "outputs": [],
   "source": [
    "url = 'http://000webhostapp.php/wp-content/plugins/ubh/wells/gzjzty=/myaccount/emailaccess/login'\n",
    "predict(url, vocab, clf)"
   ]
  },
  {
   "cell_type": "code",
   "execution_count": null,
   "metadata": {
    "slideshow": {
     "slide_type": "fragment"
    }
   },
   "outputs": [],
   "source": [
    "url = 'https://www.youtube.com/watch?v=svlEfxTyJQE'\n",
    "predict(url, vocab, clf)"
   ]
  }
 ],
 "metadata": {
  "celltoolbar": "Slideshow",
  "kernelspec": {
   "display_name": "Python 3",
   "language": "python",
   "name": "python3"
  },
  "language_info": {
   "codemirror_mode": {
    "name": "ipython",
    "version": 3
   },
   "file_extension": ".py",
   "mimetype": "text/x-python",
   "name": "python",
   "nbconvert_exporter": "python",
   "pygments_lexer": "ipython3",
   "version": "3.6.5"
  }
 },
 "nbformat": 4,
 "nbformat_minor": 2
}
