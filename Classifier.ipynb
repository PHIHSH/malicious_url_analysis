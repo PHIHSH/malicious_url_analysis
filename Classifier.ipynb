{
 "cells": [
  {
   "cell_type": "markdown",
   "metadata": {},
   "source": [
    "# Simple Naive Bayes Classifier\n",
    "Below we quickly demonstrate a simple Naive Bayes classifier, using barely enough data"
   ]
  },
  {
   "cell_type": "markdown",
   "metadata": {},
   "source": [
    "## Import libraries"
   ]
  },
  {
   "cell_type": "code",
   "execution_count": 4,
   "metadata": {},
   "outputs": [],
   "source": [
    "from sklearn.feature_extraction.text import TfidfVectorizer\n",
    "import pandas as pd\n",
    "import numpy as np\n",
    "from sklearn.naive_bayes import GaussianNB"
   ]
  },
  {
   "cell_type": "markdown",
   "metadata": {},
   "source": [
    "## Load the data"
   ]
  },
  {
   "cell_type": "code",
   "execution_count": 19,
   "metadata": {},
   "outputs": [
    {
     "data": {
      "text/html": [
       "<div>\n",
       "<style scoped>\n",
       "    .dataframe tbody tr th:only-of-type {\n",
       "        vertical-align: middle;\n",
       "    }\n",
       "\n",
       "    .dataframe tbody tr th {\n",
       "        vertical-align: top;\n",
       "    }\n",
       "\n",
       "    .dataframe thead th {\n",
       "        text-align: right;\n",
       "    }\n",
       "</style>\n",
       "<table border=\"1\" class=\"dataframe\">\n",
       "  <thead>\n",
       "    <tr style=\"text-align: right;\">\n",
       "      <th></th>\n",
       "      <th>fqdn</th>\n",
       "      <th>label</th>\n",
       "      <th>port</th>\n",
       "      <th>protocol</th>\n",
       "      <th>source</th>\n",
       "      <th>uri</th>\n",
       "      <th>url</th>\n",
       "    </tr>\n",
       "  </thead>\n",
       "  <tbody>\n",
       "    <tr>\n",
       "      <th>0</th>\n",
       "      <td></td>\n",
       "      <td>benign</td>\n",
       "      <td></td>\n",
       "      <td></td>\n",
       "      <td>stratosphere</td>\n",
       "      <td></td>\n",
       "      <td>http://sc.symcd.com/MFEwTzBNMEswSTAJBgUrDgMCGg...</td>\n",
       "    </tr>\n",
       "    <tr>\n",
       "      <th>1</th>\n",
       "      <td></td>\n",
       "      <td>benign</td>\n",
       "      <td></td>\n",
       "      <td></td>\n",
       "      <td>stratosphere</td>\n",
       "      <td></td>\n",
       "      <td>http://evcs-ocsp.ws.symantec.com/MFEwTzBNMEswS...</td>\n",
       "    </tr>\n",
       "    <tr>\n",
       "      <th>2</th>\n",
       "      <td></td>\n",
       "      <td>benign</td>\n",
       "      <td></td>\n",
       "      <td></td>\n",
       "      <td>stratosphere</td>\n",
       "      <td></td>\n",
       "      <td>http://crl.verisign.com/pca3.crl</td>\n",
       "    </tr>\n",
       "  </tbody>\n",
       "</table>\n",
       "</div>"
      ],
      "text/plain": [
       "  fqdn   label port protocol        source uri  \\\n",
       "0       benign                stratosphere       \n",
       "1       benign                stratosphere       \n",
       "2       benign                stratosphere       \n",
       "\n",
       "                                                 url  \n",
       "0  http://sc.symcd.com/MFEwTzBNMEswSTAJBgUrDgMCGg...  \n",
       "1  http://evcs-ocsp.ws.symantec.com/MFEwTzBNMEswS...  \n",
       "2                   http://crl.verisign.com/pca3.crl  "
      ]
     },
     "metadata": {},
     "output_type": "display_data"
    },
    {
     "data": {
      "text/html": [
       "<div>\n",
       "<style scoped>\n",
       "    .dataframe tbody tr th:only-of-type {\n",
       "        vertical-align: middle;\n",
       "    }\n",
       "\n",
       "    .dataframe tbody tr th {\n",
       "        vertical-align: top;\n",
       "    }\n",
       "\n",
       "    .dataframe thead th {\n",
       "        text-align: right;\n",
       "    }\n",
       "</style>\n",
       "<table border=\"1\" class=\"dataframe\">\n",
       "  <thead>\n",
       "    <tr style=\"text-align: right;\">\n",
       "      <th></th>\n",
       "      <th>fqdn</th>\n",
       "      <th>label</th>\n",
       "      <th>port</th>\n",
       "      <th>protocol</th>\n",
       "      <th>source</th>\n",
       "      <th>uri</th>\n",
       "      <th>url</th>\n",
       "    </tr>\n",
       "  </thead>\n",
       "  <tbody>\n",
       "    <tr>\n",
       "      <th>2208</th>\n",
       "      <td>syshainc.com</td>\n",
       "      <td>malicious</td>\n",
       "      <td>80.0</td>\n",
       "      <td>http</td>\n",
       "      <td>openphish_1098</td>\n",
       "      <td>/OPC/7b1614bd3badbd36f55dc5409253732a/error.php</td>\n",
       "      <td>http://syshainc.com/OPC/7b1614bd3badbd36f55dc5...</td>\n",
       "    </tr>\n",
       "    <tr>\n",
       "      <th>2209</th>\n",
       "      <td>syshainc.com</td>\n",
       "      <td>malicious</td>\n",
       "      <td>80.0</td>\n",
       "      <td>http</td>\n",
       "      <td>openphish_1099</td>\n",
       "      <td>/OPC/7b1614bd3badbd36f55dc5409253732a/</td>\n",
       "      <td>http://syshainc.com/OPC/7b1614bd3badbd36f55dc5...</td>\n",
       "    </tr>\n",
       "    <tr>\n",
       "      <th>2210</th>\n",
       "      <td>mahartrad.com</td>\n",
       "      <td>malicious</td>\n",
       "      <td>80.0</td>\n",
       "      <td>http</td>\n",
       "      <td>openphish_1100</td>\n",
       "      <td>/hotMAIL%20copy/hotMAIL/Validation/login2.php?...</td>\n",
       "      <td>http://mahartrad.com/hotMAIL%20copy/hotMAIL/Va...</td>\n",
       "    </tr>\n",
       "  </tbody>\n",
       "</table>\n",
       "</div>"
      ],
      "text/plain": [
       "               fqdn      label  port protocol          source  \\\n",
       "2208   syshainc.com  malicious  80.0     http  openphish_1098   \n",
       "2209   syshainc.com  malicious  80.0     http  openphish_1099   \n",
       "2210  mahartrad.com  malicious  80.0     http  openphish_1100   \n",
       "\n",
       "                                                    uri  \\\n",
       "2208    /OPC/7b1614bd3badbd36f55dc5409253732a/error.php   \n",
       "2209             /OPC/7b1614bd3badbd36f55dc5409253732a/   \n",
       "2210  /hotMAIL%20copy/hotMAIL/Validation/login2.php?...   \n",
       "\n",
       "                                                    url  \n",
       "2208  http://syshainc.com/OPC/7b1614bd3badbd36f55dc5...  \n",
       "2209  http://syshainc.com/OPC/7b1614bd3badbd36f55dc5...  \n",
       "2210  http://mahartrad.com/hotMAIL%20copy/hotMAIL/Va...  "
      ]
     },
     "metadata": {},
     "output_type": "display_data"
    },
    {
     "data": {
      "text/plain": [
       "benign       1111\n",
       "malicious    1100\n",
       "Name: label, dtype: int64"
      ]
     },
     "execution_count": 19,
     "metadata": {},
     "output_type": "execute_result"
    }
   ],
   "source": [
    "df_labeled = pd.read_csv('./data/labeled_data.csv')\n",
    "#df_labeled.fillna(' ', inplace=True)\n",
    "display(df_labeled.head(3))\n",
    "display(df_labeled.tail(3))\n",
    "df_labeled.label.value_counts()"
   ]
  },
  {
   "cell_type": "markdown",
   "metadata": {},
   "source": [
    "## TF-IDF and Train Naive Bayes"
   ]
  },
  {
   "cell_type": "code",
   "execution_count": 20,
   "metadata": {},
   "outputs": [],
   "source": [
    "# TF-IDF\n",
    "vectorizer = TfidfVectorizer(max_df=.5)\n",
    "X_data = vectorizer.fit_transform(df_labeled.url)\n",
    "vocab = vectorizer.vocabulary_\n",
    "\n",
    "# Naive Bayes Classifier\n",
    "cls = GaussianNB()\n",
    "clf = cls.fit(X_data.toarray(), df_labeled.label)"
   ]
  },
  {
   "cell_type": "markdown",
   "metadata": {},
   "source": [
    "## Use Trained Naive Bayes to Make Decisions"
   ]
  },
  {
   "cell_type": "code",
   "execution_count": 14,
   "metadata": {},
   "outputs": [],
   "source": [
    "def top_tfidf(vectorizer, fit_transform_result, topn=20):\n",
    "    scores = zip(vectorizer.get_feature_names(), np.asarray(fit_transform_result.sum(axis=0)).ravel())\n",
    "    sorted_scores = sorted(scores, key=lambda x: x[1], reverse=True)\n",
    "    for item in sorted_scores[0:topn]:\n",
    "        print(\"{0:50} Score: {1}\".format(item[0], item[1]))"
   ]
  },
  {
   "cell_type": "code",
   "execution_count": 15,
   "metadata": {},
   "outputs": [
    {
     "data": {
      "text/plain": [
       "'malicious'"
      ]
     },
     "execution_count": 15,
     "metadata": {},
     "output_type": "execute_result"
    }
   ],
   "source": [
    "# malicious url\n",
    "malicious_url = 'http://000webhostapp.php/wp-content/plugins/ubh/wells/gzjzty=/myaccount/emailaccess/login'\n",
    "sample = pd.DataFrame([{'url' : malicious_url}])\n",
    "\n",
    "vectorizer = TfidfVectorizer(vocabulary=vocab)\n",
    "sample_tfidf = vectorizer.fit_transform(sample.url)\n",
    "clf.predict(sample_tfidf.toarray())[0]"
   ]
  },
  {
   "cell_type": "code",
   "execution_count": 16,
   "metadata": {},
   "outputs": [
    {
     "name": "stdout",
     "output_type": "stream",
     "text": [
      "000webhostapp                                      Score: 0.30151134457776363\n",
      "content                                            Score: 0.30151134457776363\n",
      "emailaccess                                        Score: 0.30151134457776363\n",
      "gzjzty                                             Score: 0.30151134457776363\n",
      "login                                              Score: 0.30151134457776363\n"
     ]
    }
   ],
   "source": [
    "top_tfidf(vectorizer, sample_tfidf, topn=5)"
   ]
  },
  {
   "cell_type": "code",
   "execution_count": 17,
   "metadata": {},
   "outputs": [
    {
     "data": {
      "text/plain": [
       "'benign'"
      ]
     },
     "execution_count": 17,
     "metadata": {},
     "output_type": "execute_result"
    }
   ],
   "source": [
    "# benign url\n",
    "benign_url = 'https://www.youtube.com/watch?v=svlEfxTyJQE'\n",
    "sample = pd.DataFrame([{'url': benign_url}])\n",
    "sample_tfidf = vectorizer.fit_transform(sample.url)\n",
    "clf.predict(sample_tfidf.toarray())[0]"
   ]
  },
  {
   "cell_type": "code",
   "execution_count": 18,
   "metadata": {},
   "outputs": [
    {
     "name": "stdout",
     "output_type": "stream",
     "text": [
      "https                                              Score: 0.5\n",
      "watch                                              Score: 0.5\n",
      "www                                                Score: 0.5\n",
      "youtube                                            Score: 0.5\n",
      "00                                                 Score: 0.0\n"
     ]
    }
   ],
   "source": [
    "top_tfidf(vectorizer, sample_tfidf, topn=5)"
   ]
  }
 ],
 "metadata": {
  "kernelspec": {
   "display_name": "Python 3",
   "language": "python",
   "name": "python3"
  },
  "language_info": {
   "codemirror_mode": {
    "name": "ipython",
    "version": 3
   },
   "file_extension": ".py",
   "mimetype": "text/x-python",
   "name": "python",
   "nbconvert_exporter": "python",
   "pygments_lexer": "ipython3",
   "version": "3.6.4"
  }
 },
 "nbformat": 4,
 "nbformat_minor": 2
}
